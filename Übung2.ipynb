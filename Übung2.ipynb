{
  "nbformat": 4,
  "nbformat_minor": 0,
  "metadata": {
    "colab": {
      "name": "Übung2.ipynb",
      "provenance": [],
      "authorship_tag": "ABX9TyPDd727qA/nrOzap44x/CPR",
      "include_colab_link": true
    },
    "kernelspec": {
      "name": "python3",
      "display_name": "Python 3"
    }
  },
  "cells": [
    {
      "cell_type": "markdown",
      "metadata": {
        "id": "view-in-github",
        "colab_type": "text"
      },
      "source": [
        "<a href=\"https://colab.research.google.com/github/nils-imhoff/MaschineLearning/blob/master/%C3%9Cbung2.ipynb\" target=\"_parent\"><img src=\"https://colab.research.google.com/assets/colab-badge.svg\" alt=\"Open In Colab\"/></a>"
      ]
    },
    {
      "cell_type": "code",
      "metadata": {
        "id": "PczH_Tmbfn4y"
      },
      "source": [
        "import numpy as np\n",
        "import matplotlib.pyplot as plt"
      ],
      "execution_count": 183,
      "outputs": []
    },
    {
      "cell_type": "code",
      "metadata": {
        "id": "odcTJpPMgFzX"
      },
      "source": [
        "np.random.seed(2020)"
      ],
      "execution_count": 184,
      "outputs": []
    },
    {
      "cell_type": "code",
      "metadata": {
        "id": "ulEArzgDgI04"
      },
      "source": [
        "#Daten\n",
        "X = 2* np.random.rand(100,1)\n",
        "y = 4+3*X + np.random.rand(100,1)"
      ],
      "execution_count": 185,
      "outputs": []
    },
    {
      "cell_type": "code",
      "metadata": {
        "id": "NYF1v3iNgXjs",
        "outputId": "8105ff13-3efe-44d5-a7b1-88514cb500c8",
        "colab": {
          "base_uri": "https://localhost:8080/",
          "height": 537
        }
      },
      "source": [
        "plt.figure(figsize=(15,9))\n",
        "plt.plot(X,y,'b.')\n",
        "plt.show()"
      ],
      "execution_count": 186,
      "outputs": [
        {
          "output_type": "display_data",
          "data": {
            "image/png": "[encoded data removed]",
            "text/plain": [
              "<Figure size 1080x648 with 1 Axes>"
            ]
          },
          "metadata": {
            "tags": [],
            "needs_background": "light"
          }
        }
      ]
    },
    {
      "cell_type": "code",
      "metadata": {
        "id": "xBFpDR7AgsAW"
      },
      "source": [
        "X_unknown = np.array([[0],[2]])"
      ],
      "execution_count": 187,
      "outputs": []
    },
    {
      "cell_type": "code",
      "metadata": {
        "id": "DLDros9whHQB"
      },
      "source": [
        "from sklearn.linear_model import SGDRegressor"
      ],
      "execution_count": 188,
      "outputs": []
    },
    {
      "cell_type": "code",
      "metadata": {
        "id": "hfxfyxSWhMKQ"
      },
      "source": [
        "sgd_req = SGDRegressor()"
      ],
      "execution_count": 189,
      "outputs": []
    },
    {
      "cell_type": "code",
      "metadata": {
        "id": "N9YKuScahTFK",
        "outputId": "9cc788ce-5325-4f62-f0b1-0dddd7df71c8",
        "colab": {
          "base_uri": "https://localhost:8080/",
          "height": 119
        }
      },
      "source": [
        "sgd_req.fit(X,y.ravel())\n",
        "#linear_model.SGDRegressor().fit(X,y.ravel())"
      ],
      "execution_count": 190,
      "outputs": [
        {
          "output_type": "execute_result",
          "data": {
            "text/plain": [
              "SGDRegressor(alpha=0.0001, average=False, early_stopping=False, epsilon=0.1,\n",
              "             eta0=0.01, fit_intercept=True, l1_ratio=0.15,\n",
              "             learning_rate='invscaling', loss='squared_loss', max_iter=1000,\n",
              "             n_iter_no_change=5, penalty='l2', power_t=0.25, random_state=None,\n",
              "             shuffle=True, tol=0.001, validation_fraction=0.1, verbose=0,\n",
              "             warm_start=False)"
            ]
          },
          "metadata": {
            "tags": []
          },
          "execution_count": 190
        }
      ]
    },
    {
      "cell_type": "code",
      "metadata": {
        "id": "jDWXhwnXhXlx"
      },
      "source": [
        "y_pred =sgd_req.predict(X_unknown)"
      ],
      "execution_count": 191,
      "outputs": []
    },
    {
      "cell_type": "code",
      "metadata": {
        "id": "PmyakPhvhwIv"
      },
      "source": [
        "b = sgd_req.intercept_\n",
        "c = sgd_req.coef_"
      ],
      "execution_count": 192,
      "outputs": []
    },
    {
      "cell_type": "code",
      "metadata": {
        "id": "Kt3GDuM2jT1k"
      },
      "source": [
        "from sklearn.linear_model import LinearRegression"
      ],
      "execution_count": 193,
      "outputs": []
    },
    {
      "cell_type": "code",
      "metadata": {
        "id": "E8n1kij_jZNL",
        "outputId": "732ee1bb-fc7a-413c-aa26-7bf0f90b3c10",
        "colab": {
          "base_uri": "https://localhost:8080/",
          "height": 34
        }
      },
      "source": [
        "lin_reg = LinearRegression()\n",
        "lin_reg"
      ],
      "execution_count": 194,
      "outputs": [
        {
          "output_type": "execute_result",
          "data": {
            "text/plain": [
              "LinearRegression(copy_X=True, fit_intercept=True, n_jobs=None, normalize=False)"
            ]
          },
          "metadata": {
            "tags": []
          },
          "execution_count": 194
        }
      ]
    },
    {
      "cell_type": "code",
      "metadata": {
        "id": "EL_EbeARjbpW",
        "outputId": "dd8e615a-243f-4dc9-9b0a-b14e93342498",
        "colab": {
          "base_uri": "https://localhost:8080/",
          "height": 34
        }
      },
      "source": [
        "lin_reg.fit(X,y)"
      ],
      "execution_count": 195,
      "outputs": [
        {
          "output_type": "execute_result",
          "data": {
            "text/plain": [
              "LinearRegression(copy_X=True, fit_intercept=True, n_jobs=None, normalize=False)"
            ]
          },
          "metadata": {
            "tags": []
          },
          "execution_count": 195
        }
      ]
    },
    {
      "cell_type": "code",
      "metadata": {
        "id": "nl9-6tRljehp"
      },
      "source": [
        "y_pred = lin_reg.predict(X_unknown)"
      ],
      "execution_count": 196,
      "outputs": []
    },
    {
      "cell_type": "code",
      "metadata": {
        "id": "l1k4srmLjiIZ"
      },
      "source": [
        "b1 = lin_reg.intercept_ \n",
        "w1 = lin_reg.coef_ "
      ],
      "execution_count": 197,
      "outputs": []
    },
    {
      "cell_type": "code",
      "metadata": {
        "id": "torzQhINjrsO",
        "outputId": "2d358da3-88d5-4a4d-8db0-32a5594783b4",
        "colab": {
          "base_uri": "https://localhost:8080/",
          "height": 377
        }
      },
      "source": [
        "sqd_req1 = SGDRegressor(loss=\"huber\")\n",
        "sgd_req2 = SGDRegressor(max_iter=500)\n",
        "sgd_req2 = SGDRegressor(learning_rate=\"constant\", eta0 = 0.000001)\n",
        "\n",
        "sgd_list = [sgd_req, sqd_req1, sgd_req2, sgd_req2]\n",
        "\n",
        "for sgd in sgd_list:\n",
        "  sgd.fit(X,y.ravel())\n",
        "  y_pred = sgd.predict(X_unknown)\n",
        "  b = lin_reg.intercept_ \n",
        "  w = lin_reg.coef_ \n",
        "  print(\"[SGD Hyperparams] %s\\t%d\\t%s (%f)\" % (sgd.loss, sgd.max_iter, sgd.learning_rate,sgd.eta0))\n",
        "  print(\"b=%f\\tw=%f\\ty_pred=%f\\n\\n\" % (b[0], w[0], y_pred[0]))"
      ],
      "execution_count": 198,
      "outputs": [
        {
          "output_type": "stream",
          "text": [
            "[SGD Hyperparams] squared_loss\t1000\tinvscaling (0.010000)\n",
            "b=4.444755\tw=3.054923\ty_pred=4.057456\n",
            "\n",
            "\n",
            "[SGD Hyperparams] huber\t1000\tinvscaling (0.010000)\n",
            "b=4.444755\tw=3.054923\ty_pred=3.415139\n",
            "\n",
            "\n",
            "[SGD Hyperparams] squared_loss\t1000\tconstant (0.000001)\n",
            "b=4.444755\tw=3.054923\ty_pred=0.677782\n",
            "\n",
            "\n",
            "[SGD Hyperparams] squared_loss\t1000\tconstant (0.000001)\n",
            "b=4.444755\tw=3.054923\ty_pred=0.677782\n",
            "\n",
            "\n"
          ],
          "name": "stdout"
        },
        {
          "output_type": "stream",
          "text": [
            "/usr/local/lib/python3.6/dist-packages/sklearn/linear_model/_stochastic_gradient.py:1187: ConvergenceWarning: Maximum number of iteration reached before convergence. Consider increasing max_iter to improve the fit.\n",
            "  ConvergenceWarning)\n",
            "/usr/local/lib/python3.6/dist-packages/sklearn/linear_model/_stochastic_gradient.py:1187: ConvergenceWarning: Maximum number of iteration reached before convergence. Consider increasing max_iter to improve the fit.\n",
            "  ConvergenceWarning)\n"
          ],
          "name": "stderr"
        }
      ]
    }
  ]
}